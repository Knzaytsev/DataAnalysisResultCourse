{
 "cells": [
  {
   "cell_type": "code",
   "execution_count": 56,
   "metadata": {},
   "outputs": [
    {
     "name": "stderr",
     "output_type": "stream",
     "text": [
      "[nltk_data] Downloading package stopwords to\n",
      "[nltk_data]     C:\\Users\\Tuccc\\AppData\\Roaming\\nltk_data...\n",
      "[nltk_data]   Package stopwords is already up-to-date!\n"
     ]
    },
    {
     "data": {
      "text/plain": [
       "True"
      ]
     },
     "execution_count": 56,
     "metadata": {},
     "output_type": "execute_result"
    }
   ],
   "source": [
    "import numpy as np\n",
    "import pandas as pd\n",
    "import nltk\n",
    "import re\n",
    "from nltk.tokenize import word_tokenize\n",
    "from nltk.corpus import stopwords\n",
    "nltk.download('stopwords')"
   ]
  },
  {
   "cell_type": "code",
   "execution_count": 62,
   "metadata": {},
   "outputs": [],
   "source": [
    "def getTrain(path):\n",
    "    df = pd.read_csv(path, sep=';', header=None)\n",
    "    df = df[[3, 4]]\n",
    "    df.columns = ['text', 'type']\n",
    "    return df"
   ]
  },
  {
   "cell_type": "code",
   "execution_count": 91,
   "metadata": {},
   "outputs": [],
   "source": [
    "df_train_positive = getTrain('positive.csv')\n",
    "\n",
    "df_train_negative = getTrain('negative.csv')\n",
    "\n",
    "df = pd.concat([df_train_positive, df_train_negative])\n",
    "df['type'] = list(map(lambda t: 0 if t == -1 else 1, df['type']))"
   ]
  },
  {
   "cell_type": "code",
   "execution_count": 64,
   "metadata": {},
   "outputs": [
    {
     "data": {
      "text/html": [
       "<div>\n",
       "<style scoped>\n",
       "    .dataframe tbody tr th:only-of-type {\n",
       "        vertical-align: middle;\n",
       "    }\n",
       "\n",
       "    .dataframe tbody tr th {\n",
       "        vertical-align: top;\n",
       "    }\n",
       "\n",
       "    .dataframe thead th {\n",
       "        text-align: right;\n",
       "    }\n",
       "</style>\n",
       "<table border=\"1\" class=\"dataframe\">\n",
       "  <thead>\n",
       "    <tr style=\"text-align: right;\">\n",
       "      <th></th>\n",
       "      <th>text</th>\n",
       "      <th>type</th>\n",
       "    </tr>\n",
       "  </thead>\n",
       "  <tbody>\n",
       "    <tr>\n",
       "      <td>0</td>\n",
       "      <td>@first_timee хоть я и школота, но поверь, у на...</td>\n",
       "      <td>1</td>\n",
       "    </tr>\n",
       "    <tr>\n",
       "      <td>1</td>\n",
       "      <td>Да, все-таки он немного похож на него. Но мой ...</td>\n",
       "      <td>1</td>\n",
       "    </tr>\n",
       "    <tr>\n",
       "      <td>2</td>\n",
       "      <td>RT @KatiaCheh: Ну ты идиотка) я испугалась за ...</td>\n",
       "      <td>1</td>\n",
       "    </tr>\n",
       "    <tr>\n",
       "      <td>3</td>\n",
       "      <td>RT @digger2912: \"Кто то в углу сидит и погибае...</td>\n",
       "      <td>1</td>\n",
       "    </tr>\n",
       "    <tr>\n",
       "      <td>4</td>\n",
       "      <td>@irina_dyshkant Вот что значит страшилка :D\\nН...</td>\n",
       "      <td>1</td>\n",
       "    </tr>\n",
       "  </tbody>\n",
       "</table>\n",
       "</div>"
      ],
      "text/plain": [
       "                                                text  type\n",
       "0  @first_timee хоть я и школота, но поверь, у на...     1\n",
       "1  Да, все-таки он немного похож на него. Но мой ...     1\n",
       "2  RT @KatiaCheh: Ну ты идиотка) я испугалась за ...     1\n",
       "3  RT @digger2912: \"Кто то в углу сидит и погибае...     1\n",
       "4  @irina_dyshkant Вот что значит страшилка :D\\nН...     1"
      ]
     },
     "execution_count": 64,
     "metadata": {},
     "output_type": "execute_result"
    }
   ],
   "source": [
    "df.head()"
   ]
  },
  {
   "cell_type": "code",
   "execution_count": 95,
   "metadata": {},
   "outputs": [],
   "source": [
    "def cleanText(texts):\n",
    "    res = []\n",
    "    stop_words = stopwords.words('russian')\n",
    "    for t in texts:\n",
    "        t = t.lower()\n",
    "        t = re.sub(r'(http://)[a-zA-Z0-9_./]+', '', t)\n",
    "        t = re.sub(r'[,!.\\n)(\":(:D|:d)*&?#;a-zA-Z/%=@_^#$=]', '', re.sub(r'(rt)*\\s*@\\s*[a-zA-Z0-9_]*(\\s|:)+', '', t))\n",
    "        t = re.sub(r'((\\s-\\s)|(-\\s)|(\\s-))', '', t)\n",
    "        tokens = word_tokenize(t)\n",
    "        clean_tokens = [word for word in tokens if word not in stop_words]\n",
    "        string = ' '.join([str(elem) for elem in clean_tokens])\n",
    "        res.append(string)\n",
    "        #res.append(t)\n",
    "    return res"
   ]
  },
  {
   "cell_type": "code",
   "execution_count": 96,
   "metadata": {},
   "outputs": [
    {
     "data": {
      "text/html": [
       "<div>\n",
       "<style scoped>\n",
       "    .dataframe tbody tr th:only-of-type {\n",
       "        vertical-align: middle;\n",
       "    }\n",
       "\n",
       "    .dataframe tbody tr th {\n",
       "        vertical-align: top;\n",
       "    }\n",
       "\n",
       "    .dataframe thead th {\n",
       "        text-align: right;\n",
       "    }\n",
       "</style>\n",
       "<table border=\"1\" class=\"dataframe\">\n",
       "  <thead>\n",
       "    <tr style=\"text-align: right;\">\n",
       "      <th></th>\n",
       "      <th>text</th>\n",
       "      <th>type</th>\n",
       "    </tr>\n",
       "  </thead>\n",
       "  <tbody>\n",
       "    <tr>\n",
       "      <td>0</td>\n",
       "      <td>школота поверь самое общество профилирующий пр...</td>\n",
       "      <td>1</td>\n",
       "    </tr>\n",
       "    <tr>\n",
       "      <td>1</td>\n",
       "      <td>все-таки немного похож мальчик равно</td>\n",
       "      <td>1</td>\n",
       "    </tr>\n",
       "    <tr>\n",
       "      <td>2</td>\n",
       "      <td>идиотка испугалась</td>\n",
       "      <td>1</td>\n",
       "    </tr>\n",
       "    <tr>\n",
       "      <td>3</td>\n",
       "      <td>углу сидит погибает голода ещё 2 порции взяли ...</td>\n",
       "      <td>1</td>\n",
       "    </tr>\n",
       "    <tr>\n",
       "      <td>4</td>\n",
       "      <td>значит страшилка блинпосмотрев частиу создастс...</td>\n",
       "      <td>1</td>\n",
       "    </tr>\n",
       "    <tr>\n",
       "      <td>...</td>\n",
       "      <td>...</td>\n",
       "      <td>...</td>\n",
       "    </tr>\n",
       "    <tr>\n",
       "      <td>111918</td>\n",
       "      <td>каждый хочет исправлять</td>\n",
       "      <td>0</td>\n",
       "    </tr>\n",
       "    <tr>\n",
       "      <td>111919</td>\n",
       "      <td>скучаю тактольковправляет мозги равно скучаю</td>\n",
       "      <td>0</td>\n",
       "    </tr>\n",
       "    <tr>\n",
       "      <td>111920</td>\n",
       "      <td>школу говно это идти</td>\n",
       "      <td>0</td>\n",
       "    </tr>\n",
       "    <tr>\n",
       "      <td>111921</td>\n",
       "      <td>тауриэль грусти обнял</td>\n",
       "      <td>0</td>\n",
       "    </tr>\n",
       "    <tr>\n",
       "      <td>111922</td>\n",
       "      <td>такси везет работу раздумываю приплатить втащи...</td>\n",
       "      <td>0</td>\n",
       "    </tr>\n",
       "  </tbody>\n",
       "</table>\n",
       "<p>226834 rows × 2 columns</p>\n",
       "</div>"
      ],
      "text/plain": [
       "                                                     text  type\n",
       "0       школота поверь самое общество профилирующий пр...     1\n",
       "1                    все-таки немного похож мальчик равно     1\n",
       "2                                      идиотка испугалась     1\n",
       "3       углу сидит погибает голода ещё 2 порции взяли ...     1\n",
       "4       значит страшилка блинпосмотрев частиу создастс...     1\n",
       "...                                                   ...   ...\n",
       "111918                            каждый хочет исправлять     0\n",
       "111919       скучаю тактольковправляет мозги равно скучаю     0\n",
       "111920                               школу говно это идти     0\n",
       "111921                              тауриэль грусти обнял     0\n",
       "111922  такси везет работу раздумываю приплатить втащи...     0\n",
       "\n",
       "[226834 rows x 2 columns]"
      ]
     },
     "execution_count": 96,
     "metadata": {},
     "output_type": "execute_result"
    }
   ],
   "source": [
    "#Очистить от ненужных слов (латиница, символы)\n",
    "\n",
    "df['text'] = cleanText(df['text'])\n",
    "df"
   ]
  },
  {
   "cell_type": "code",
   "execution_count": 89,
   "metadata": {},
   "outputs": [
    {
     "data": {
      "text/plain": [
       "111918    смешно когда из-за меня у людей бугурт на ровн...\n",
       "111918                но не каждый хочет что то исправлять \n",
       "Name: text, dtype: object"
      ]
     },
     "execution_count": 89,
     "metadata": {},
     "output_type": "execute_result"
    }
   ],
   "source": []
  },
  {
   "cell_type": "code",
   "execution_count": null,
   "metadata": {},
   "outputs": [],
   "source": []
  },
  {
   "cell_type": "code",
   "execution_count": null,
   "metadata": {},
   "outputs": [],
   "source": []
  }
 ],
 "metadata": {
  "kernelspec": {
   "display_name": "Python 3",
   "language": "python",
   "name": "python3"
  },
  "language_info": {
   "codemirror_mode": {
    "name": "ipython",
    "version": 3
   },
   "file_extension": ".py",
   "mimetype": "text/x-python",
   "name": "python",
   "nbconvert_exporter": "python",
   "pygments_lexer": "ipython3",
   "version": "3.7.4"
  }
 },
 "nbformat": 4,
 "nbformat_minor": 2
}
